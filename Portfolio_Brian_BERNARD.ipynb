{
  "cells": [
    {
      "cell_type": "markdown",
      "id": "9dad7494-4b7e-4fd6-ade2-a3be9138b82e",
      "metadata": {
        "id": "9dad7494-4b7e-4fd6-ade2-a3be9138b82e"
      },
      "source": [
        "Brian BERNARD\n",
        "\n",
        "---\n",
        "\n",
        "# Portfolio : créations pédagogiques\n",
        "\n",
        "---\n",
        "\n",
        "<div class=\"alert alert-block alert-success\"> Les créations proposées dans ce portfolio ont toutes été réalisées par mes propres soins.</div>\n",
        "\n",
        "\n",
        "## I- Créations numériques\n",
        "\n",
        "### A- Audition interactive de l'effet de la numérisation d'un son\n",
        "[![Binder](https://mybinder.org/badge_logo.svg)](https://mybinder.org/v2/gh/Douxleurre/Activit-num-risation.git/HEAD)\n",
        "<details>\n",
        "<summary>En savoir plus</summary>\n",
        "Notebook hébergé sur mybinder, accès via le bouton ci-dessus.\n",
        "\n",
        "</details>\n",
        "\n",
        "### B- Audition interactive de la notion d'harmonie musicale\n",
        "[![Binder](https://mybinder.org/badge_logo.svg)](https://mybinder.org/v2/gh/Douxleurre/Activit-harmonie.git/HEAD)\n",
        "<details>\n",
        "<summary>En savoir plus</summary>\n",
        "Notebook hébergé sur mybinder, accès via le bouton ci-dessus.\n",
        "\n",
        "</details>\n",
        "\n",
        "### C- Modélisation interactive de la notion de réactif limitant\n",
        "\n",
        "### D- Modélisation de la notion d'équilibre chimique\n",
        "\n",
        "### E- TP Chronophotographie à partir de coordonnées GPS Élève\n",
        "\n",
        "<details>\n",
        "<summary>En savoir plus</summary>\n",
        "Enregistrement des coordonnées GPS Élève durant un mouvement (à vélo, trajet en voiture, etc.) grâce à Phyphox. Sur une carte couvrant 20km à la ronde autour du Lycée, tracé des points de l'acquisition puis export de la chronophotographie superposée à la carte.\n",
        "\n",
        "Pour un trajet de 15 minutes en voiture en campagne, la chronophotographie est produite en moins de 10 secondes sur un ordinateur du lycée.\n",
        "\n",
        "Zoom sur le résultat du script sur un exemple :\n",
        "\n",
        "IMG CHRONOPHOT\n",
        "\n",
        "</details>\n",
        "\n",
        "### F- Et bien d'autres encore...\n",
        "<details>\n",
        "<summary>En savoir plus</summary>\n",
        "Édition de capsules vidéo dans le cadre d'un fonctionnement en classe inversée. Réalisation d'animations illustrant des trajectoires complexes.\n",
        "\n",
        "[![YouTube Video](https://youtu.be/_V604sNR1Ms?si=Iw4O5tEspqCp6RxI)](https://www.youtube.com/watch?v=YOUR_VIDEO_ID)\n",
        "\n",
        "Moins travaillés, j'ai également un bon nombre de scripts interactifs destinés à l'enseignement de notions au programme dans l'enseignement supérieur. Ces scripts sont plus anciens : https://drive.google.com/drive/folders/1N8ifid5EW94_goegpml-jf6QhFesFa3J\n",
        "\n",
        "Jeu d'entraînement (.exe) aux conversions d'unités, aux questions générées procéduralement (compatible à l'exécution sous wine) :    \n",
        "\n",
        "IMG JEU\n",
        "\n",
        "</details>\n",
        "\n",
        "## II- Créations expérimentales\n",
        "\n",
        "### A- Petite chambre à brouillard\n",
        "\n",
        "### B- Modulateur Spatial de Lumière fait maison\n",
        "\n",
        "### C- Mesure de la vitesse de la lumière par temps de vol sur 2m de distance\n",
        "\n",
        "### D- Petites expériences originales...\n",
        "<details>\n",
        "<summary>En savoir plus</summary>\n",
        "Spectre de raie d'un éclair\n",
        "\n",
        "Palier de changement d'état mesuré par dispositif d'ExAO arduino.\n",
        "</details>\n",
        "\n",
        "***\n",
        "\n",
        "**Contact :** brian.bernard[at]ac-normandie.fr ou brian.bernard[at]ens-paris-saclay.fr\n",
        "\n"
      ]
    },
    {
      "cell_type": "code",
      "execution_count": null,
      "id": "4ae5c53a-d05e-43fc-9ac7-352169764394",
      "metadata": {
        "id": "4ae5c53a-d05e-43fc-9ac7-352169764394"
      },
      "outputs": [],
      "source": []
    }
  ],
  "metadata": {
    "kernelspec": {
      "display_name": "Python 3 (ipykernel)",
      "language": "python",
      "name": "python3"
    },
    "language_info": {
      "codemirror_mode": {
        "name": "ipython",
        "version": 3
      },
      "file_extension": ".py",
      "mimetype": "text/x-python",
      "name": "python",
      "nbconvert_exporter": "python",
      "pygments_lexer": "ipython3",
      "version": "3.10.12"
    },
    "colab": {
      "provenance": []
    }
  },
  "nbformat": 4,
  "nbformat_minor": 5
}